{
 "cells": [
  {
   "cell_type": "code",
   "execution_count": null,
   "metadata": {},
   "outputs": [],
   "source": [
    "# What are 10 (or more) questions that you hope to answer through your data analysis?\n",
    "\n",
    "No. | Question\n",
    ":-:|:-\n",
    "1. | What is the engineering median pay for recent college graduates?\n",
    "2. | How does the engineering median pay compare to the business median pay?\n",
    "3. | Which engineering major has the highest pay?\n",
    "4. | How does industrial engineering’s pay compare to the highest engineering pay?\n",
    "5. | Out of all the majors, which major has the potential to make the most money?\n",
    "6. | Is it more likely to find a job as an aerospace engineering major or industrial engineering major?\n",
    "7. | How likely is it to come out of college with a full time job as an industrial engineering major?\n",
    "8. | Which non-engineering majors has the potential of making the most?\n",
    "9. | How does engineering pay compare to computer and mathematics pay?\n",
    "10. | Which major has the highest pay and is most likely to find a job out of college?"
   ]
  }
 ],
 "metadata": {
  "kernelspec": {
   "display_name": "Python 3.10.5 64-bit",
   "language": "python",
   "name": "python3"
  },
  "language_info": {
   "name": "python",
   "version": "3.10.5"
  },
  "orig_nbformat": 4,
  "vscode": {
   "interpreter": {
    "hash": "046bb86fa3eb48bb802a11a19540a583b0c96e7a5216471357853d61183f8ecd"
   }
  }
 },
 "nbformat": 4,
 "nbformat_minor": 2
}
